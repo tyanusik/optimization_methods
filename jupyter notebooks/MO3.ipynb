{
 "cells": [
  {
   "cell_type": "code",
   "execution_count": 1,
   "id": "a8fc98b4-cc16-4643-b01e-92b485d5a547",
   "metadata": {},
   "outputs": [],
   "source": [
    "import math\n",
    "import numpy as np\n",
    "\n",
    "def func(x):\n",
    "    return (x[0] - 2)**2 + (x[1] - 5)**2\n",
    "\n",
    "def part_der_x1(x):\n",
    "    return 2*x - 4\n",
    "\n",
    "def part_der_x2(x):\n",
    "    return 2*x - 10"
   ]
  },
  {
   "cell_type": "code",
   "execution_count": 2,
   "id": "20ebab70-bacb-4a89-871e-cbf19d751d04",
   "metadata": {},
   "outputs": [
    {
     "ename": "ValueError",
     "evalue": "setting an array element with a sequence.",
     "output_type": "error",
     "traceback": [
      "\u001b[0;31m---------------------------------------------------------------------------\u001b[0m",
      "\u001b[0;31mTypeError\u001b[0m                                 Traceback (most recent call last)",
      "\u001b[0;31mTypeError\u001b[0m: only length-1 arrays can be converted to Python scalars",
      "\nThe above exception was the direct cause of the following exception:\n",
      "\u001b[0;31mValueError\u001b[0m                                Traceback (most recent call last)",
      "Cell \u001b[0;32mIn[2], line 19\u001b[0m\n\u001b[1;32m     17\u001b[0m         \u001b[38;5;28;01melse\u001b[39;00m: x_min \u001b[38;5;241m=\u001b[39m x\u001b[38;5;241m*\u001b[39m\u001b[38;5;241m*\u001b[39m\u001b[38;5;28miter\u001b[39m\n\u001b[1;32m     18\u001b[0m     \u001b[38;5;28;01mreturn\u001b[39;00m x_min, grad, norm\n\u001b[0;32m---> 19\u001b[0m result \u001b[38;5;241m=\u001b[39m \u001b[43mconstant_step\u001b[49m\u001b[43m(\u001b[49m\u001b[43m[\u001b[49m\u001b[38;5;241;43m0\u001b[39;49m\u001b[43m,\u001b[49m\u001b[38;5;241;43m1\u001b[39;49m\u001b[43m]\u001b[49m\u001b[43m,\u001b[49m\u001b[43m \u001b[49m\u001b[38;5;241;43m0.001\u001b[39;49m\u001b[43m,\u001b[49m\u001b[43m \u001b[49m\u001b[38;5;241;43m0.0001\u001b[39;49m\u001b[43m,\u001b[49m\u001b[43m \u001b[49m\u001b[38;5;241;43m100\u001b[39;49m\u001b[43m)\u001b[49m\n\u001b[1;32m     20\u001b[0m \u001b[38;5;28mprint\u001b[39m(result)\n",
      "Cell \u001b[0;32mIn[2], line 9\u001b[0m, in \u001b[0;36mconstant_step\u001b[0;34m(start_point, eps1, eps2, max_iter)\u001b[0m\n\u001b[1;32m      7\u001b[0m norm \u001b[38;5;241m=\u001b[39m np\u001b[38;5;241m.\u001b[39mlinalg\u001b[38;5;241m.\u001b[39mnorm(grad)\n\u001b[1;32m      8\u001b[0m \u001b[38;5;28;01mif\u001b[39;00m norm \u001b[38;5;241m>\u001b[39m eps1:\n\u001b[0;32m----> 9\u001b[0m     \u001b[43mx\u001b[49m\u001b[43m[\u001b[49m\u001b[38;5;28;43miter\u001b[39;49m\u001b[43m \u001b[49m\u001b[38;5;241;43m+\u001b[39;49m\u001b[43m \u001b[49m\u001b[38;5;241;43m1\u001b[39;49m\u001b[43m]\u001b[49m \u001b[38;5;241m=\u001b[39m x[\u001b[38;5;28miter\u001b[39m] \u001b[38;5;241m-\u001b[39m g \u001b[38;5;241m*\u001b[39m grad\n\u001b[1;32m     10\u001b[0m     \u001b[38;5;28;01mif\u001b[39;00m func(x[\u001b[38;5;28miter\u001b[39m \u001b[38;5;241m+\u001b[39m \u001b[38;5;241m1\u001b[39m]) \u001b[38;5;241m-\u001b[39m func(x[\u001b[38;5;28miter\u001b[39m]) \u001b[38;5;241m<\u001b[39m \u001b[38;5;241m0\u001b[39m:\n\u001b[1;32m     11\u001b[0m         norm_x \u001b[38;5;241m=\u001b[39m np\u001b[38;5;241m.\u001b[39mlinalg\u001b[38;5;241m.\u001b[39mnorm(x[\u001b[38;5;28miter\u001b[39m \u001b[38;5;241m+\u001b[39m \u001b[38;5;241m1\u001b[39m] \u001b[38;5;241m-\u001b[39m x[\u001b[38;5;28miter\u001b[39m])\n",
      "\u001b[0;31mValueError\u001b[0m: setting an array element with a sequence."
     ]
    }
   ],
   "source": [
    "def constant_step(start_point, eps1, eps2, max_iter):\n",
    "    x = np.array(start_point, dtype=float)\n",
    "    iter = 0\n",
    "    g = 0.0001\n",
    "    while iter <= max_iter:\n",
    "        grad = np.array([part_der_x1(x[iter]), part_der_x2(x[iter+1])])\n",
    "        norm = np.linalg.norm(grad)\n",
    "        if norm > eps1:\n",
    "            x[iter + 1] = x[iter] - g * grad\n",
    "            if func(x[iter + 1]) - func(x[iter]) < 0:\n",
    "                norm_x = np.linalg.norm(x[iter + 1] - x[iter])\n",
    "                norm_f = np.linalg.norm(func(x[iter + 1]**(iter+1) - func(x[iter]**iter)))\n",
    "                if norm_x > eps2 and norm_f > eps2:\n",
    "                    iter += 1\n",
    "                else: x_min = x**(iter + 1)\n",
    "            else: g /= 2\n",
    "        else: x_min = x**iter\n",
    "    return x_min, grad, norm\n",
    "result = constant_step([0,1], 0.001, 0.0001, 100)\n",
    "print(result)"
   ]
  },
  {
   "cell_type": "code",
   "execution_count": null,
   "id": "90c052eb-0499-4c02-a428-f3676e7c9b25",
   "metadata": {},
   "outputs": [],
   "source": []
  }
 ],
 "metadata": {
  "kernelspec": {
   "display_name": "Python 3 (ipykernel)",
   "language": "python",
   "name": "python3"
  },
  "language_info": {
   "codemirror_mode": {
    "name": "ipython",
    "version": 3
   },
   "file_extension": ".py",
   "mimetype": "text/x-python",
   "name": "python",
   "nbconvert_exporter": "python",
   "pygments_lexer": "ipython3",
   "version": "3.10.12"
  }
 },
 "nbformat": 4,
 "nbformat_minor": 5
}
